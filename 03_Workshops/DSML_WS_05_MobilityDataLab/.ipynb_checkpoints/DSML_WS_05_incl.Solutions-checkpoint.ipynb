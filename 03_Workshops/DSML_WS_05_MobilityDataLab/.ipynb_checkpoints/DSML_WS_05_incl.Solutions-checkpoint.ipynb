{
 "cells": [
  {
   "cell_type": "markdown",
   "metadata": {},
   "source": [
    "# `DSML` - Workshop 04\n",
    "\n",
    "In this lecture we dive into an excerpt of Car2Go data from the city of Stuttgart (STR). We will work hands-on with the dataset. At the end of this session you should:\n",
    "\n",
    "- Understand the dataset and be able to query and analyze it\n",
    "- Do basic geographical plots in folium\n",
    "- Understand the business case behind Virtual Power Plants and how they interact with the ancillary services markets\n",
    "- Understand the prediction and operational challenges behind operating EV-based VPPs and discuss some of the possible approaches behind tackling these challenges."
   ]
  },
  {
   "cell_type": "markdown",
   "metadata": {},
   "source": [
    "## `Data exploration`"
   ]
  },
  {
   "cell_type": "markdown",
   "metadata": {},
   "source": [
    "### 1.1. General overview and data understanding\n",
    "\n",
    "To keep size manageable we have uploaded a 2-week data snippet of Car2Go movement data from the city of Stuttgart (STR). We use data from November, 2017. In the interest of time we have done a lot of the pre-processing for you. Simply execute the code below to read in the data in the desired format."
   ]
  },
  {
   "cell_type": "code",
   "execution_count": 7,
   "metadata": {},
   "outputs": [],
   "source": [
    "# import all relevant libraries\n",
    "\n",
    "import pandas as pd\n",
    "import numpy as np\n",
    "import matplotlib.pyplot as plt\n",
    "import seaborn as sns\n",
    "sns.set()\n",
    "sns.set_style(\"whitegrid\")\n",
    "sns.set_palette(\"GnBu_d\")\n",
    "\n",
    "# also import these \"new\" libraries \n",
    "# Note: you may have to download an add them to your environment (using e.g. conda install [librabry name])\n",
    "\n",
    "import folium\n",
    "from folium import plugins\n",
    "from folium.plugins import HeatMap\n",
    "from datetime import datetime\n",
    "import math\n",
    "import random\n",
    "import timeit"
   ]
  },
  {
   "cell_type": "code",
   "execution_count": 8,
   "metadata": {},
   "outputs": [],
   "source": [
    "STR_Nov = pd.read_csv(\"Car2Go_STR_Nov.csv\", encoding = \"ISO-8859-1\")\n",
    "STR_Nov.sort_values([\"car ID\",\"timestamp\"], inplace=True)\n",
    "STR_Nov.set_index(pd.DatetimeIndex(STR_Nov[\"timestamp\"]),inplace=True)\n",
    "STR_Nov.drop(\"timestamp\", axis=1, inplace=True)"
   ]
  },
  {
   "cell_type": "code",
   "execution_count": 9,
   "metadata": {},
   "outputs": [],
   "source": [
    "# Let's map time of day and day of week to our DF\n",
    "\n",
    "def date_match (ts):\n",
    "    return ts.date()\n",
    "\n",
    "def weekday_match (ts):\n",
    "    return ts.weekday()\n",
    "\n",
    "def hour_match (ts):\n",
    "    return ts.hour"
   ]
  },
  {
   "cell_type": "code",
   "execution_count": 10,
   "metadata": {},
   "outputs": [],
   "source": [
    "STR_Nov[\"Date\"]=STR_Nov.index.map(date_match)\n",
    "STR_Nov[\"Weekday\"]=STR_Nov.index.map(weekday_match)\n",
    "STR_Nov[\"Hour\"]=STR_Nov.index.map(hour_match)"
   ]
  },
  {
   "cell_type": "code",
   "execution_count": 11,
   "metadata": {},
   "outputs": [
    {
     "data": {
      "text/html": [
       "<div>\n",
       "<style scoped>\n",
       "    .dataframe tbody tr th:only-of-type {\n",
       "        vertical-align: middle;\n",
       "    }\n",
       "\n",
       "    .dataframe tbody tr th {\n",
       "        vertical-align: top;\n",
       "    }\n",
       "\n",
       "    .dataframe thead th {\n",
       "        text-align: right;\n",
       "    }\n",
       "</style>\n",
       "<table border=\"1\" class=\"dataframe\">\n",
       "  <thead>\n",
       "    <tr style=\"text-align: right;\">\n",
       "      <th></th>\n",
       "      <th>car ID</th>\n",
       "      <th>long</th>\n",
       "      <th>lat</th>\n",
       "      <th>address</th>\n",
       "      <th>tank/charge level</th>\n",
       "      <th>charging</th>\n",
       "      <th>Date</th>\n",
       "      <th>Weekday</th>\n",
       "      <th>Hour</th>\n",
       "    </tr>\n",
       "    <tr>\n",
       "      <th>timestamp</th>\n",
       "      <th></th>\n",
       "      <th></th>\n",
       "      <th></th>\n",
       "      <th></th>\n",
       "      <th></th>\n",
       "      <th></th>\n",
       "      <th></th>\n",
       "      <th></th>\n",
       "      <th></th>\n",
       "    </tr>\n",
       "  </thead>\n",
       "  <tbody>\n",
       "    <tr>\n",
       "      <th>2017-11-01 00:10:01</th>\n",
       "      <td>WDD2428901J014865</td>\n",
       "      <td>9.25371</td>\n",
       "      <td>48.76507</td>\n",
       "      <td>Heiligenwiesen 31, 70327 Stuttgart</td>\n",
       "      <td>55</td>\n",
       "      <td>0</td>\n",
       "      <td>2017-11-01</td>\n",
       "      <td>2</td>\n",
       "      <td>0</td>\n",
       "    </tr>\n",
       "    <tr>\n",
       "      <th>2017-11-01 00:15:01</th>\n",
       "      <td>WDD2428901J014865</td>\n",
       "      <td>9.25371</td>\n",
       "      <td>48.76507</td>\n",
       "      <td>Heiligenwiesen 31, 70327 Stuttgart</td>\n",
       "      <td>55</td>\n",
       "      <td>0</td>\n",
       "      <td>2017-11-01</td>\n",
       "      <td>2</td>\n",
       "      <td>0</td>\n",
       "    </tr>\n",
       "    <tr>\n",
       "      <th>2017-11-01 00:20:01</th>\n",
       "      <td>WDD2428901J014865</td>\n",
       "      <td>9.25371</td>\n",
       "      <td>48.76507</td>\n",
       "      <td>Heiligenwiesen 31, 70327 Stuttgart</td>\n",
       "      <td>55</td>\n",
       "      <td>0</td>\n",
       "      <td>2017-11-01</td>\n",
       "      <td>2</td>\n",
       "      <td>0</td>\n",
       "    </tr>\n",
       "    <tr>\n",
       "      <th>2017-11-01 00:25:01</th>\n",
       "      <td>WDD2428901J014865</td>\n",
       "      <td>9.25371</td>\n",
       "      <td>48.76507</td>\n",
       "      <td>Heiligenwiesen 31, 70327 Stuttgart</td>\n",
       "      <td>55</td>\n",
       "      <td>0</td>\n",
       "      <td>2017-11-01</td>\n",
       "      <td>2</td>\n",
       "      <td>0</td>\n",
       "    </tr>\n",
       "    <tr>\n",
       "      <th>2017-11-01 00:30:01</th>\n",
       "      <td>WDD2428901J014865</td>\n",
       "      <td>9.25371</td>\n",
       "      <td>48.76507</td>\n",
       "      <td>Heiligenwiesen 31, 70327 Stuttgart</td>\n",
       "      <td>55</td>\n",
       "      <td>0</td>\n",
       "      <td>2017-11-01</td>\n",
       "      <td>2</td>\n",
       "      <td>0</td>\n",
       "    </tr>\n",
       "    <tr>\n",
       "      <th>2017-11-01 00:35:01</th>\n",
       "      <td>WDD2428901J014865</td>\n",
       "      <td>9.25371</td>\n",
       "      <td>48.76507</td>\n",
       "      <td>Heiligenwiesen 31, 70327 Stuttgart</td>\n",
       "      <td>55</td>\n",
       "      <td>0</td>\n",
       "      <td>2017-11-01</td>\n",
       "      <td>2</td>\n",
       "      <td>0</td>\n",
       "    </tr>\n",
       "    <tr>\n",
       "      <th>2017-11-01 01:25:02</th>\n",
       "      <td>WDD2428901J014865</td>\n",
       "      <td>9.16111</td>\n",
       "      <td>48.77170</td>\n",
       "      <td>HasenbergstraÃe 32, 70176 Stuttgart</td>\n",
       "      <td>43</td>\n",
       "      <td>0</td>\n",
       "      <td>2017-11-01</td>\n",
       "      <td>2</td>\n",
       "      <td>1</td>\n",
       "    </tr>\n",
       "    <tr>\n",
       "      <th>2017-11-01 01:30:01</th>\n",
       "      <td>WDD2428901J014865</td>\n",
       "      <td>9.16111</td>\n",
       "      <td>48.77170</td>\n",
       "      <td>HasenbergstraÃe 32, 70176 Stuttgart</td>\n",
       "      <td>43</td>\n",
       "      <td>0</td>\n",
       "      <td>2017-11-01</td>\n",
       "      <td>2</td>\n",
       "      <td>1</td>\n",
       "    </tr>\n",
       "    <tr>\n",
       "      <th>2017-11-01 01:35:01</th>\n",
       "      <td>WDD2428901J014865</td>\n",
       "      <td>9.16111</td>\n",
       "      <td>48.77170</td>\n",
       "      <td>HasenbergstraÃe 32, 70176 Stuttgart</td>\n",
       "      <td>43</td>\n",
       "      <td>0</td>\n",
       "      <td>2017-11-01</td>\n",
       "      <td>2</td>\n",
       "      <td>1</td>\n",
       "    </tr>\n",
       "    <tr>\n",
       "      <th>2017-11-01 01:40:01</th>\n",
       "      <td>WDD2428901J014865</td>\n",
       "      <td>9.16111</td>\n",
       "      <td>48.77170</td>\n",
       "      <td>HasenbergstraÃe 32, 70176 Stuttgart</td>\n",
       "      <td>43</td>\n",
       "      <td>0</td>\n",
       "      <td>2017-11-01</td>\n",
       "      <td>2</td>\n",
       "      <td>1</td>\n",
       "    </tr>\n",
       "  </tbody>\n",
       "</table>\n",
       "</div>"
      ],
      "text/plain": [
       "                                car ID     long       lat  \\\n",
       "timestamp                                                   \n",
       "2017-11-01 00:10:01  WDD2428901J014865  9.25371  48.76507   \n",
       "2017-11-01 00:15:01  WDD2428901J014865  9.25371  48.76507   \n",
       "2017-11-01 00:20:01  WDD2428901J014865  9.25371  48.76507   \n",
       "2017-11-01 00:25:01  WDD2428901J014865  9.25371  48.76507   \n",
       "2017-11-01 00:30:01  WDD2428901J014865  9.25371  48.76507   \n",
       "2017-11-01 00:35:01  WDD2428901J014865  9.25371  48.76507   \n",
       "2017-11-01 01:25:02  WDD2428901J014865  9.16111  48.77170   \n",
       "2017-11-01 01:30:01  WDD2428901J014865  9.16111  48.77170   \n",
       "2017-11-01 01:35:01  WDD2428901J014865  9.16111  48.77170   \n",
       "2017-11-01 01:40:01  WDD2428901J014865  9.16111  48.77170   \n",
       "\n",
       "                                                  address  tank/charge level  \\\n",
       "timestamp                                                                      \n",
       "2017-11-01 00:10:01    Heiligenwiesen 31, 70327 Stuttgart                 55   \n",
       "2017-11-01 00:15:01    Heiligenwiesen 31, 70327 Stuttgart                 55   \n",
       "2017-11-01 00:20:01    Heiligenwiesen 31, 70327 Stuttgart                 55   \n",
       "2017-11-01 00:25:01    Heiligenwiesen 31, 70327 Stuttgart                 55   \n",
       "2017-11-01 00:30:01    Heiligenwiesen 31, 70327 Stuttgart                 55   \n",
       "2017-11-01 00:35:01    Heiligenwiesen 31, 70327 Stuttgart                 55   \n",
       "2017-11-01 01:25:02  HasenbergstraÃe 32, 70176 Stuttgart                 43   \n",
       "2017-11-01 01:30:01  HasenbergstraÃe 32, 70176 Stuttgart                 43   \n",
       "2017-11-01 01:35:01  HasenbergstraÃe 32, 70176 Stuttgart                 43   \n",
       "2017-11-01 01:40:01  HasenbergstraÃe 32, 70176 Stuttgart                 43   \n",
       "\n",
       "                     charging        Date  Weekday  Hour  \n",
       "timestamp                                                 \n",
       "2017-11-01 00:10:01         0  2017-11-01        2     0  \n",
       "2017-11-01 00:15:01         0  2017-11-01        2     0  \n",
       "2017-11-01 00:20:01         0  2017-11-01        2     0  \n",
       "2017-11-01 00:25:01         0  2017-11-01        2     0  \n",
       "2017-11-01 00:30:01         0  2017-11-01        2     0  \n",
       "2017-11-01 00:35:01         0  2017-11-01        2     0  \n",
       "2017-11-01 01:25:02         0  2017-11-01        2     1  \n",
       "2017-11-01 01:30:01         0  2017-11-01        2     1  \n",
       "2017-11-01 01:35:01         0  2017-11-01        2     1  \n",
       "2017-11-01 01:40:01         0  2017-11-01        2     1  "
      ]
     },
     "execution_count": 11,
     "metadata": {},
     "output_type": "execute_result"
    }
   ],
   "source": [
    "STR_Nov.head(10)"
   ]
  },
  {
   "cell_type": "markdown",
   "metadata": {},
   "source": [
    "### Task: What do you observe? <br>\n",
    "\n",
    "- Play around with the above dataframe trying using commands such as `df.head()`, `df.describe()` or `df.info()`\n",
    "- What data is gathered, for what period, in what format and at which frequency?\n",
    "- How do you explain the sudden jumps in the time-stamp?\n",
    "- What can you infer about the status of each car?"
   ]
  },
  {
   "cell_type": "code",
   "execution_count": 12,
   "metadata": {},
   "outputs": [
    {
     "name": "stdout",
     "output_type": "stream",
     "text": [
      "<class 'pandas.core.frame.DataFrame'>\n",
      "DatetimeIndex: 1393195 entries, 2017-11-01 00:10:01 to 2017-11-14 21:45:01\n",
      "Data columns (total 9 columns):\n",
      "car ID               1393195 non-null object\n",
      "long                 1393195 non-null float64\n",
      "lat                  1393195 non-null float64\n",
      "address              1393195 non-null object\n",
      "tank/charge level    1393195 non-null int64\n",
      "charging             1393195 non-null int64\n",
      "Date                 1393195 non-null object\n",
      "Weekday              1393195 non-null int64\n",
      "Hour                 1393195 non-null int64\n",
      "dtypes: float64(2), int64(4), object(3)\n",
      "memory usage: 106.3+ MB\n"
     ]
    }
   ],
   "source": [
    "STR_Nov.info()\n",
    "\n",
    "\n",
    "\n",
    "\n",
    "\n",
    "\n"
   ]
  },
  {
   "cell_type": "markdown",
   "metadata": {},
   "source": [
    "### 1.1.1 Fleet Size and availability"
   ]
  },
  {
   "cell_type": "code",
   "execution_count": 13,
   "metadata": {},
   "outputs": [
    {
     "name": "stdout",
     "output_type": "stream",
     "text": [
      "The STR fleet consists of 489 cars (for the observed time frame)\n"
     ]
    }
   ],
   "source": [
    "# Let's explore fleet size\n",
    "\n",
    "print((\"The STR fleet consists of %d cars (for the observed time frame)\") %len(STR_Nov[\"car ID\"].unique()))"
   ]
  },
  {
   "cell_type": "markdown",
   "metadata": {},
   "source": [
    "Note that in STR the full active car fleet is electric and therefore constitutes a potential distributed energy resource (DER) that can be used to provide flexibility. The fleet consist of Smart EQ fortwos and Mercedes Benz A Class models each with a battery of size 17.6 kWh and charging rates of 4.6 kW (22kW optional)."
   ]
  },
  {
   "cell_type": "markdown",
   "metadata": {},
   "source": [
    "Let's explore fleet availability throughout the week and day by checking how many unique cars are available for each day and hour of day."
   ]
  },
  {
   "cell_type": "code",
   "execution_count": 14,
   "metadata": {},
   "outputs": [
    {
     "name": "stderr",
     "output_type": "stream",
     "text": [
      "/Users/schroerk/miniconda3/envs/geo_env/lib/python3.6/site-packages/pandas/plotting/_converter.py:129: FutureWarning: Using an implicitly registered datetime converter for a matplotlib plotting method. The converter was registered by pandas on import. Future versions of pandas will require you to explicitly register matplotlib converters.\n",
      "\n",
      "To register the converters:\n",
      "\t>>> from pandas.plotting import register_matplotlib_converters\n",
      "\t>>> register_matplotlib_converters()\n",
      "  warnings.warn(msg, FutureWarning)\n"
     ]
    },
    {
     "data": {
      "image/png": "[encoded data removed]",
      "text/plain": [
       "<Figure size 960x320 with 1 Axes>"
      ]
     },
     "metadata": {},
     "output_type": "display_data"
    }
   ],
   "source": [
    "# Availability over time (5 min intervals)\n",
    "\n",
    "STR_Nov_Date_avail = STR_Nov.groupby(\"timestamp\")[\"car ID\"].nunique()\n",
    "\n",
    "fig = plt.figure(figsize=(12,4), dpi= 80) \n",
    "ax = fig.add_axes([0,0,1,1])\n",
    "\n",
    "plt.plot(STR_Nov_Date_avail)\n",
    "ax.set_title(\"Cars available per time interval\")\n",
    "plt.show()"
   ]
  },
  {
   "cell_type": "code",
   "execution_count": 9,
   "metadata": {},
   "outputs": [],
   "source": [
    "# Availability by day of week (0 = Monday, 6 = Sunday)\n",
    "\n",
    "STR_Nov_weekday_avail = STR_Nov.groupby([\"Date\",\"Weekday\"])[\"car ID\"].nunique()\n",
    "STR_Nov_weekday_avail = pd.DataFrame(STR_Nov_weekday_avail)"
   ]
  },
  {
   "cell_type": "code",
   "execution_count": 10,
   "metadata": {},
   "outputs": [
    {
     "data": {
      "image/png": "[encoded data removed]",
      "text/plain": [
       "<Figure size 960x320 with 1 Axes>"
      ]
     },
     "metadata": {
      "needs_background": "light"
     },
     "output_type": "display_data"
    }
   ],
   "source": [
    "fig = plt.figure(figsize=(12,4), dpi= 80) \n",
    "ax = fig.add_axes([0,0,1,1])\n",
    "\n",
    "sns.boxplot(x=STR_Nov_weekday_avail.index.get_level_values(1), y=STR_Nov_weekday_avail[\"car ID\"])\n",
    "plt.show()"
   ]
  },
  {
   "cell_type": "code",
   "execution_count": 11,
   "metadata": {},
   "outputs": [],
   "source": [
    "# Availability by time of day\n",
    "\n",
    "STR_Nov_time_avail = STR_Nov.groupby([\"Date\",\"Hour\"])[\"car ID\"].nunique()\n",
    "STR_Nov_time_avail = pd.DataFrame(STR_Nov_time_avail)"
   ]
  },
  {
   "cell_type": "code",
   "execution_count": 12,
   "metadata": {
    "scrolled": false
   },
   "outputs": [
    {
     "data": {
      "image/png": "[encoded data removed]",
      "text/plain": [
       "<Figure size 960x320 with 1 Axes>"
      ]
     },
     "metadata": {
      "needs_background": "light"
     },
     "output_type": "display_data"
    }
   ],
   "source": [
    "fig = plt.figure(figsize=(12,4), dpi= 80) \n",
    "ax = fig.add_axes([0,0,1,1])\n",
    "\n",
    "sns.boxplot(x=STR_Nov_time_avail.index.get_level_values(1), y=STR_Nov_time_avail[\"car ID\"])\n",
    "plt.show()"
   ]
  },
  {
   "cell_type": "markdown",
   "metadata": {},
   "source": [
    "### Task: What do you observe? <br>\n",
    "\n",
    "- Describe the patterns of car availability shown in the descriptive graphs above. Which graphs are particularly instructive?\n",
    "- What are your assumptions regarding the cause of the observed patterns?"
   ]
  },
  {
   "cell_type": "markdown",
   "metadata": {},
   "source": [
    "### 1.1.2 Car Movement & Location Intelligence\n",
    "\n",
    "How can we infer car movement from this data? Let's have a look at what the data provides. A lot of what follows below is a demonstation of possible geospatial analytics tasks with limited implications for VPP operations. It is, however, highly relevant from a fleet operator point of view (Where is the demand? Where should my units be when?)\n",
    "\n",
    "**Technical note**: for this tutorial we use `folium` for visualization (see [here](https://www.kaggle.com/daveianhickey/how-to-folium-for-maps-heatmaps-time-data) for a quick introduction). For more comprehensive functionality `geopandas` offers a powerful Python GIS data handling and plotting library (see [here](http://geopandas.org))."
   ]
  },
  {
   "cell_type": "code",
   "execution_count": 13,
   "metadata": {},
   "outputs": [],
   "source": [
    "STR_Nov[\"Coordinates\"] = list(zip(STR_Nov[\"lat\"].round(4),STR_Nov[\"long\"].round(4)))"
   ]
  },
  {
   "cell_type": "markdown",
   "metadata": {},
   "source": [
    "Let us check where cars are typically located by plotting a heat map of locations for a given hour of the day."
   ]
  },
  {
   "cell_type": "code",
   "execution_count": 14,
   "metadata": {
    "scrolled": true
   },
   "outputs": [
    {
     "name": "stdout",
     "output_type": "stream",
     "text": [
      "WME4513901K667118\n"
     ]
    }
   ],
   "source": [
    "# For performance reasons we select a single car only - Pick randomly from the list\n",
    "\n",
    "car_list = STR_Nov[\"car ID\"].unique()\n",
    "selected_car_ID = random.choice(car_list)\n",
    "print(selected_car_ID)"
   ]
  },
  {
   "cell_type": "code",
   "execution_count": 18,
   "metadata": {
    "scrolled": false
   },
   "outputs": [
    {
     "data": {
      "text/html": [
       "<div style=\"width:100%;\"><div style=\"position:relative;width:100%;height:0;padding-bottom:60%;\"><iframe src=\"data:text/html;charset=utf-8;base64,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\" style=\"position:absolute;width:100%;height:100%;left:0;top:0;border:none !important;\" allowfullscreen webkitallowfullscreen mozallowfullscreen></iframe></div></div>"
      ],
      "text/plain": [
       "<folium.folium.Map at 0x122f598d0>"
      ]
     },
     "execution_count": 18,
     "metadata": {},
     "output_type": "execute_result"
    }
   ],
   "source": [
    "#define new map\n",
    "\n",
    "STR_heat_map = folium.Map(location=(48.76507, 9.25371),  tiles='Stamen Toner', \n",
    "                       zoom_start=9, control_scale=True, max_zoom=20)\n",
    "\n",
    "# add heat map\n",
    "\n",
    "STR_heat_map.add_child(plugins.HeatMap(STR_Nov[STR_Nov[\"car ID\"]==selected_car_ID][\"Coordinates\"], radius=15))\n",
    "STR_heat_map"
   ]
  },
  {
   "cell_type": "markdown",
   "metadata": {},
   "source": [
    "We now whish to identify the movement of the selected car. We draw the location points and trajectories."
   ]
  },
  {
   "cell_type": "code",
   "execution_count": 6,
   "metadata": {
    "scrolled": true
   },
   "outputs": [
    {
     "ename": "NameError",
     "evalue": "name 'STR_Nov' is not defined",
     "output_type": "error",
     "traceback": [
      "\u001b[0;31m---------------------------------------------------------------------------\u001b[0m",
      "\u001b[0;31mNameError\u001b[0m                                 Traceback (most recent call last)",
      "\u001b[0;32m<ipython-input-6-fd9abe8c908a>\u001b[0m in \u001b[0;36m<module>\u001b[0;34m\u001b[0m\n\u001b[1;32m      7\u001b[0m \u001b[0;31m# draw positions for selcted cars\u001b[0m\u001b[0;34m\u001b[0m\u001b[0;34m\u001b[0m\u001b[0;34m\u001b[0m\u001b[0m\n\u001b[1;32m      8\u001b[0m \u001b[0;34m\u001b[0m\u001b[0m\n\u001b[0;32m----> 9\u001b[0;31m \u001b[0mSTR_Nov_car_select\u001b[0m \u001b[0;34m=\u001b[0m \u001b[0mSTR_Nov\u001b[0m\u001b[0;34m[\u001b[0m\u001b[0mSTR_Nov\u001b[0m\u001b[0;34m[\u001b[0m\u001b[0;34m\"car ID\"\u001b[0m\u001b[0;34m]\u001b[0m\u001b[0;34m==\u001b[0m\u001b[0mselected_car_ID\u001b[0m\u001b[0;34m]\u001b[0m\u001b[0;34m\u001b[0m\u001b[0;34m\u001b[0m\u001b[0m\n\u001b[0m\u001b[1;32m     10\u001b[0m \u001b[0;34m\u001b[0m\u001b[0m\n\u001b[1;32m     11\u001b[0m \u001b[0mpositions\u001b[0m \u001b[0;34m=\u001b[0m \u001b[0mlist\u001b[0m\u001b[0;34m(\u001b[0m\u001b[0mSTR_Nov_car_select\u001b[0m\u001b[0;34m[\u001b[0m\u001b[0;34m\"Coordinates\"\u001b[0m\u001b[0;34m]\u001b[0m\u001b[0;34m.\u001b[0m\u001b[0munique\u001b[0m\u001b[0;34m(\u001b[0m\u001b[0;34m)\u001b[0m\u001b[0;34m)\u001b[0m\u001b[0;34m\u001b[0m\u001b[0;34m\u001b[0m\u001b[0m\n",
      "\u001b[0;31mNameError\u001b[0m: name 'STR_Nov' is not defined"
     ]
    }
   ],
   "source": [
    "#define empty map\n",
    "\n",
    "STR_map_points = folium.Map(location=(48.76507, 9.25371),  tiles='Stamen Toner', \n",
    "                       zoom_start=10, control_scale=True, max_zoom=20)\n",
    "\n",
    "\n",
    "# draw positions for selcted cars\n",
    "\n",
    "STR_Nov_car_select = STR_Nov[STR_Nov[\"car ID\"]==selected_car_ID]\n",
    "\n",
    "positions = list(STR_Nov_car_select[\"Coordinates\"].unique())\n",
    "for position in positions:\n",
    "    folium.CircleMarker(radius=5, location=position, popup='The Waterfront', \n",
    "                                 color='crimson', fill_color='crimson').add_to(STR_map_points)\n",
    "    \n",
    "STR_map_points"
   ]
  },
  {
   "cell_type": "markdown",
   "metadata": {},
   "source": [
    "We also add the trajectories to get an understanding of the distance traveled. Do you see any problem with such an approach?"
   ]
  },
  {
   "cell_type": "code",
   "execution_count": null,
   "metadata": {
    "scrolled": true
   },
   "outputs": [],
   "source": [
    "STR_map_trajectory = folium.Map(location=(48.76507, 9.25371),  tiles='Stamen Toner', \n",
    "                       zoom_start=10, control_scale=True, max_zoom=20)\n",
    "\n",
    "# draw trajectory for a selected car\n",
    "\n",
    "folium.PolyLine(STR_Nov_car_select[\"Coordinates\"],color=\"blue\", weight=5, opacity=0.8, ).add_to(STR_map_trajectory)\n",
    "STR_map_trajectory"
   ]
  },
  {
   "cell_type": "markdown",
   "metadata": {},
   "source": [
    "### Task\n",
    "\n",
    "- Combine the three maps into one by defining a new map and adding all three layers to that map. How does it look?"
   ]
  },
  {
   "cell_type": "code",
   "execution_count": null,
   "metadata": {
    "scrolled": true
   },
   "outputs": [],
   "source": [
    "# Your Code Here\n",
    "\n",
    "#define new map\n",
    "\n",
    "STR_map_combine = folium.Map(location=(48.76507, 9.25371),  tiles='Stamen Toner', \n",
    "                       zoom_start=10, control_scale=True, max_zoom=20)\n",
    "\n",
    "\n",
    "# add heat map\n",
    "\n",
    "STR_map_combine.add_child(plugins.HeatMap(STR_Nov[STR_Nov[\"car ID\"]==selected_car_ID][\"Coordinates\"], radius=15))\n",
    "\n",
    "\n",
    "# draw positions for selcted cars\n",
    "\n",
    "positions = list(STR_Nov_car_select[\"Coordinates\"].unique())\n",
    "for position in positions:\n",
    "    folium.features.CircleMarker(radius=5, location=position, popup='The Waterfront', \n",
    "                                 color='crimson', fill_color='crimson').add_to(STR_map_combine)\n",
    "\n",
    "# draw trajectory for a selected car\n",
    "\n",
    "folium.PolyLine(STR_Nov_car_select[\"Coordinates\"],color=\"blue\", weight=5, opacity=0.8, ).add_to(STR_map_combine)\n",
    "\n",
    "\n",
    "STR_map_combine\n",
    "\n"
   ]
  },
  {
   "cell_type": "markdown",
   "metadata": {},
   "source": [
    "**Note**: from the data we can also infer where charging points must be located. Let's have a look..."
   ]
  },
  {
   "cell_type": "code",
   "execution_count": null,
   "metadata": {
    "scrolled": true
   },
   "outputs": [],
   "source": [
    "charging_pos = list(STR_Nov[STR_Nov[\"charging\"]==1][\"Coordinates\"].unique())\n",
    "\n",
    "\n",
    "#define empty map\n",
    "\n",
    "STR_map_charging = folium.Map(location=(48.76507, 9.25371),  tiles='Stamen Toner', \n",
    "                       zoom_start=9, control_scale=True, max_zoom=20)\n",
    "\n",
    "\n",
    "# draw positions for selcted cars\n",
    "\n",
    "for charge_point in charging_pos:\n",
    "    folium.features.CircleMarker(radius=3, location=charge_point, popup='The Waterfront', \n",
    "                                 color='green', fill_color='green').add_to(STR_map_charging)\n",
    "    \n",
    "STR_map_charging"
   ]
  },
  {
   "cell_type": "markdown",
   "metadata": {},
   "source": [
    "### Task & Discussion: Limitations and how to deal with them?\n",
    "\n",
    "- Play around with the map above and try for different vehicles by repeatedly executing the code - What do you observe?\n",
    "- What are the key limitations of this data granularity?\n",
    "- What are approaches to infering distance traveled?\n",
    "- What are apporaches to infering the exact route traveled?"
   ]
  },
  {
   "cell_type": "markdown",
   "metadata": {},
   "source": [
    "## 1.2. Focus: Capacity Availability\n",
    "\n",
    "We now wish to understand how much capacity we have available at any given point in time and can therefore use to trade in the acillary market. For this we first need to define how many cars are charging at a particular instance. Also remeber the following technical information regarding the fleet:\n",
    "\n",
    "- Battery capacity: 17.6 kWh\n",
    "- Charging rate: 4.6 kW\n",
    "- Optional fast charging: 22 kW"
   ]
  },
  {
   "cell_type": "markdown",
   "metadata": {},
   "source": [
    "### 1.2.1. Capacity for trading in the ancillary services market"
   ]
  },
  {
   "cell_type": "code",
   "execution_count": null,
   "metadata": {},
   "outputs": [],
   "source": [
    "Battery_energy_capa = 17.6 #kWh\n",
    "Charging_rate = 4.6 #kW\n",
    "Charging_rate_fast = 22 #kW\n",
    "Max_EV_range = 200 #km"
   ]
  },
  {
   "cell_type": "code",
   "execution_count": null,
   "metadata": {},
   "outputs": [],
   "source": [
    "# Cars connected at a given point in time\n",
    "STR_Nov_charging = STR_Nov.groupby(\"timestamp\")[\"charging\"].sum()\n",
    "\n",
    "fig = plt.figure(figsize=(12,4), dpi= 80) \n",
    "ax = fig.add_axes([0,0,1,1])\n",
    "\n",
    "\n",
    "plt.plot(STR_Nov_charging)\n",
    "\n",
    "ax.set_title(\"# cars connected at a given point in time\")\n",
    "ax.set_ylabel(\"# of cars\")\n",
    "ax.set_xlabel(\"Date\")\n",
    "\n",
    "plt.show()"
   ]
  },
  {
   "cell_type": "code",
   "execution_count": null,
   "metadata": {},
   "outputs": [],
   "source": [
    "# Let us look at trends over the day - How many cars get connected per hour per time of day?\n",
    "\n",
    "STR_Nov_charging_tod = pd.DataFrame(STR_Nov[STR_Nov[\"charging\"]==1]).groupby([\"Date\",\"Hour\"])[\"car ID\"].nunique()\n",
    "STR_Nov_charging_tod = pd.DataFrame(STR_Nov_charging_tod)"
   ]
  },
  {
   "cell_type": "code",
   "execution_count": null,
   "metadata": {},
   "outputs": [],
   "source": [
    "fig = plt.figure(figsize=(12,4), dpi= 80) \n",
    "ax = fig.add_axes([0,0,1,1])\n",
    "\n",
    "sns.boxplot(x=STR_Nov_charging_tod.index.get_level_values(1), y=STR_Nov_charging_tod[\"car ID\"])\n",
    "ax.set_title(\"# cars connected by time of day (hour intervals)\")\n",
    "plt.show()"
   ]
  },
  {
   "cell_type": "code",
   "execution_count": null,
   "metadata": {},
   "outputs": [],
   "source": [
    "fig, ax = plt.subplots(figsize=(16,9), ncols=2, nrows=1, sharex=True, sharey=True, dpi=200)\n",
    "\n",
    "\n",
    "STR_Nov_capa_normal = STR_Nov.groupby(\"timestamp\")[\"charging\"].sum()*Charging_rate\n",
    "STR_Nov_capa_fast = STR_Nov.groupby(\"timestamp\")[\"charging\"].sum()*Charging_rate_fast\n",
    "\n",
    "# Normal speed______\n",
    "\n",
    "ax[0].set_title(\"Capacity per 5 min slot with 4.6kW charging [kW]\")\n",
    "ax[0].plot(STR_Nov_capa_normal, \"--b\")\n",
    "\n",
    "# fast speed_______\n",
    "\n",
    "ax[1].set_title(\"Capacity per 5 min slot with 22kW charging [kW]\")\n",
    "ax[1].plot(STR_Nov_capa_fast, \"--g\")\n",
    "\n",
    "plt.show()"
   ]
  },
  {
   "cell_type": "markdown",
   "metadata": {},
   "source": [
    "### Task:\n",
    "\n",
    "- What patterns do you see? Why? Do you see scope for building a strong predictive model?\n",
    "- How do you evaluate the case of using the VPP in the ancillary services markets (secondary reserve) (compare fast charging and normal charging case)? Given current market designs, can an EV VPP be successful?\n",
    "- Is there scope for raising capacity at a given point in time? What are innovative apporaches towards raising available capacity at any given point in time? (compare against # of idle cars, charging station positions etc.)\n",
    "- Recall the mechanism of the secondary reserve market: Participants use bid for a capacity price for every 15min. Do you see any issues/constraints in using electric vehicle batteries as secondary reserve? How can the fleet operator ensure that the VPP can deliver the required capacity over the full pledged period?"
   ]
  },
  {
   "cell_type": "markdown",
   "metadata": {},
   "source": [
    "### 1.2.2 What is the battery constraint for balancing capacity provision?\n",
    "\n",
    "In the acillary services market you pledge capacity (in kW) for which you get reimbursed. If you get called (either for upwards or downwards regulation) you need to feed in or consume at this rate (or below). Therefore, as a plant operator, you need to demonstrate that you will be able to sustain the pleadged load for the full 15min time interval.\n",
    "\n",
    "To verify, we explore the state of charge across time for the cars that are charging as this will give us an indication for the energy that is available for upwards and downwards regulation (i.e. the time frame for which the VPP can be called) - An important constraint!"
   ]
  },
  {
   "cell_type": "code",
   "execution_count": null,
   "metadata": {},
   "outputs": [],
   "source": [
    "# connected battery capacity (in KWh)\n",
    "\n",
    "# What do we have available for downwards regulation (i.e. how much energy can be absorbed?)\n",
    "STR_Nov[\"Connected free Battery Capacity [kWh]\"] = (\n",
    "    (100-STR_Nov[\"tank/charge level\"])/100)*Battery_energy_capa*STR_Nov[\"charging\"]\n",
    "\n",
    "# What do we have available for upwards regulation (i.e. how much energy can be fed back into the grid?)\n",
    "STR_Nov[\"Connected SOC [kWh]\"] = (\n",
    "    (STR_Nov[\"tank/charge level\"])/100)*Battery_energy_capa*STR_Nov[\"charging\"]"
   ]
  },
  {
   "cell_type": "code",
   "execution_count": null,
   "metadata": {},
   "outputs": [],
   "source": [
    "Connected_downwards_energy = STR_Nov[STR_Nov[\"charging\"]==1].groupby(\"timestamp\")[\"Connected free Battery Capacity [kWh]\"].sum()\n",
    "Connected_upwards_energy = STR_Nov[STR_Nov[\"charging\"]==1].groupby(\"timestamp\")[\"Connected SOC [kWh]\"].sum()"
   ]
  },
  {
   "cell_type": "code",
   "execution_count": null,
   "metadata": {},
   "outputs": [],
   "source": [
    "fig, ax = plt.subplots(figsize=(16,9), ncols=2, nrows=1, sharex=True, sharey=False, dpi=200)\n",
    "\n",
    "# Normal speed______\n",
    "\n",
    "ax[0].set_title(\"Downwards energy [kWh]\")\n",
    "ax[0].plot(Connected_downwards_energy, \"--b\")\n",
    "\n",
    "# fast speed_______\n",
    "\n",
    "ax[1].set_title(\"Upwards energy [kWh]\")\n",
    "ax[1].plot(Connected_upwards_energy, \"--g\")\n",
    "\n",
    "plt.show()"
   ]
  },
  {
   "cell_type": "markdown",
   "metadata": {},
   "source": [
    "### Task:\n",
    "\n",
    "- How do you determine whether enough energy/storage capacity is available to fulfill the \n",
    "- From inspecting the graph above and comparing with the available capacity from above is their a relevant state of charge constraint? Is it a problem? How big of a problem is it?\n",
    "- How does this constraint influence the capacity that can be pledged in the capacity markets?"
   ]
  },
  {
   "cell_type": "markdown",
   "metadata": {},
   "source": [
    "## 1.3. Focus: Rental demand and vehicle utilization\n",
    "\n",
    "We now whish to understand in more detail the rental demand in Stuttgart. First we need a full understanding of car status for the different years. We distinguish the following four states:\n",
    "\n",
    "+ **parked, not charging**: charging = 0, $address_{(t-1)}$ = $address_t$\n",
    "+ **parked, charging**: charging = 1, $address_{(t-1)}$ = $address_t$\n",
    "+ **rented (start)**: charging = 0, $address_{(t-1)}$ = $address_t$, $address_{(t-1)}$ <> $address_t$\n",
    "+ **rented (end)**: charging = 0, $address_{(t-1)}$ <> $address_t, address_{(t-1)}$ = $address_t$"
   ]
  },
  {
   "cell_type": "code",
   "execution_count": null,
   "metadata": {},
   "outputs": [],
   "source": [
    "STR_Nov[\"timestamp_col\"]=STR_Nov.index"
   ]
  },
  {
   "cell_type": "code",
   "execution_count": null,
   "metadata": {},
   "outputs": [],
   "source": [
    "columns = [\"carID\", \"long\",\"lat\", \"address\", \"soc\", \"charging\", \"date\", \"week\", \"hour\", \"coordinates\", \"connected free capacity\", \"connected soc\", \"timestamp_col\"]\n",
    "STR_Nov.columns = columns\n",
    "STR_Nov.head(2)"
   ]
  },
  {
   "cell_type": "code",
   "execution_count": null,
   "metadata": {},
   "outputs": [],
   "source": [
    "def calculate_trips(df_car):\n",
    "    \n",
    "    trips = list()\n",
    "    \n",
    "    prev = df_car.iloc[0]\n",
    "    \n",
    "    # iterate over rows\n",
    "    for row in df_car.itertuples():\n",
    "        \n",
    "        \n",
    "\n",
    "        \n",
    "    # 0=carid, 1=long, 2=lat, 3=address, 4=Soc, 12=timestamp\n",
    "        if row.address != prev.address:\n",
    "            trips.append([prev.carID, \n",
    "                          prev.timestamp_col, \n",
    "                          prev.address, \n",
    "                          prev.lat, \n",
    "                          prev.long, \n",
    "                          prev.soc, \n",
    "                          row.timestamp_col,\n",
    "                          row.address, \n",
    "                          row.lat, \n",
    "                          row.long, \n",
    "                          row.soc])\n",
    "        prev = row # set prev to row (will be r-1 for next iteration)\n",
    "\n",
    "    return pd.DataFrame(\n",
    "        trips,\n",
    "        columns=[\n",
    "            \"EV\",\n",
    "            \"start_time\",\n",
    "            \"start_address\",\n",
    "            \"start_lat\",\n",
    "            \"start_lon\",\n",
    "            \"start_soc\",\n",
    "            \"end_time\",\n",
    "            \"end_address\",\n",
    "            \"end_lat\",\n",
    "            \"end_lon\",\n",
    "            \"end_soc\"],\n",
    "    )"
   ]
  },
  {
   "cell_type": "code",
   "execution_count": null,
   "metadata": {},
   "outputs": [],
   "source": [
    "# Define processing function for cleaning\n",
    "\n",
    "def process(df):\n",
    "    \"\"\"Executes all preprocessing steps sequentially\"\"\"\n",
    "\n",
    "    # GPS accuracy is only guaranteed at a granularity of 10m, round accordingly.\n",
    "    # See also: https://wiki.openstreetmap.org/wiki/Precision_of_coordinates.\n",
    "    df[[\"lat\", \"long\"]] = df[\n",
    "        [\"lat\", \"long\"]].round(4)\n",
    "    \n",
    "\n",
    "    df.sort_values(\"timestamp\", inplace=True)\n",
    "\n",
    "    # define lists\n",
    "    trips = list()\n",
    "    cars = df[\"carID\"].unique()\n",
    "    \n",
    "    # loop\n",
    "    for car in cars:\n",
    "        ev_trips = calculate_trips(df[df[\"carID\"] == car])\n",
    "        trips.append(ev_trips)\n",
    "\n",
    "    df_trips = pd.concat(trips)\n",
    "    df_trips = df_trips.sort_values(\"start_time\").reset_index().drop(\"index\", axis=1)\n",
    "\n",
    "    #df_trips = clean_trips(df_trips)\n",
    "    #df_trips = add_charging_stations(df_trips, df_stations)\n",
    "    \n",
    "    \n",
    "    return df_trips"
   ]
  },
  {
   "cell_type": "code",
   "execution_count": null,
   "metadata": {},
   "outputs": [],
   "source": [
    "STR_Nov_trips = process(STR_Nov)"
   ]
  },
  {
   "cell_type": "code",
   "execution_count": null,
   "metadata": {},
   "outputs": [],
   "source": [
    "# To do: Do some cleaning, e.g. remove v. long trips"
   ]
  },
  {
   "cell_type": "code",
   "execution_count": null,
   "metadata": {},
   "outputs": [],
   "source": [
    "STR_Nov_trips.head()"
   ]
  },
  {
   "cell_type": "code",
   "execution_count": null,
   "metadata": {},
   "outputs": [],
   "source": [
    "# Add distance\n",
    "\n",
    "# Approach 1: Infer using Soc, Problem: Cannot use this approach in case car has been charged during trip\n",
    "\n",
    "def distance(soc_diff):\n",
    "    if soc_diff<=0:\n",
    "        dist = -soc_diff/100 * Max_EV_range\n",
    "        return dist\n",
    "    else:\n",
    "        return np.nan # if EV has been charged during\n",
    "    \n",
    "# Approach 2: Use Haversine distance to find geodesic distance (see: https://janakiev.com/blog/gps-points-distance-python/)\n",
    "\n",
    "\n",
    "# Approach 3: OpenStreetMaps/HERE Route Calc --> Ask studen assistance to set this up?\n",
    "\n",
    "\n",
    "STR_Nov_trips[\"distance_soc\"] = (STR_Nov_trips[\"end_soc\"]-STR_Nov_trips[\"start_soc\"]).apply(distance)\n"
   ]
  },
  {
   "cell_type": "code",
   "execution_count": null,
   "metadata": {},
   "outputs": [],
   "source": [
    "# Add trip duration\n",
    "# Max. overerstimation of duration by c. 10 min \n",
    "# (rent just before next 5min stamp and return just after second to last stamp) )\n",
    "\n",
    "STR_Nov_trips[\"duration\"] = STR_Nov_trips[\"end_time\"] - STR_Nov_trips[\"start_time\"]"
   ]
  },
  {
   "cell_type": "code",
   "execution_count": null,
   "metadata": {},
   "outputs": [],
   "source": [
    "STR_Nov_trips.head()"
   ]
  },
  {
   "cell_type": "code",
   "execution_count": null,
   "metadata": {},
   "outputs": [],
   "source": [
    "# Check occurences where distance metric fails \n",
    "# -> No way of infering actual distance traveled as it will likely have been a roundtrip\n",
    "\n",
    "STR_Nov_trips[STR_Nov_trips[\"distance_soc\"].isna() == True].head()"
   ]
  },
  {
   "cell_type": "code",
   "execution_count": null,
   "metadata": {},
   "outputs": [],
   "source": [
    "STR_Nov_trips_total_rental = STR_Nov_trips[[\"EV\",\"duration\"]].groupby(\"EV\").sum()"
   ]
  },
  {
   "cell_type": "code",
   "execution_count": null,
   "metadata": {},
   "outputs": [],
   "source": [
    "len(STR_Nov_trips_total_rental)"
   ]
  },
  {
   "cell_type": "code",
   "execution_count": null,
   "metadata": {},
   "outputs": [],
   "source": [
    "STR_Nov_trips_total_rental[\"utilization\"] = STR_Nov_trips_total_rental[\"duration\"]/ (np.timedelta64(15,'D'))"
   ]
  },
  {
   "cell_type": "code",
   "execution_count": null,
   "metadata": {},
   "outputs": [],
   "source": [
    "sns.distplot(STR_Nov_trips_total_rental[\"utilization\"], bins=50)\n",
    "plt.plot()"
   ]
  },
  {
   "cell_type": "code",
   "execution_count": null,
   "metadata": {},
   "outputs": [],
   "source": [
    "# create np array for timeframe\n",
    "\n",
    "start = datetime.datetime(2017,11,1,0,0,1)\n",
    "end = datetime.datetime(2017,11,16,0,0,0)\n",
    "diff = timedelta(minutes=5)\n",
    "\n",
    "time_index=np.arange(start,end,diff)"
   ]
  },
  {
   "cell_type": "code",
   "execution_count": null,
   "metadata": {},
   "outputs": [],
   "source": [
    "time_index"
   ]
  },
  {
   "cell_type": "code",
   "execution_count": null,
   "metadata": {},
   "outputs": [],
   "source": [
    "car_index = STR_Nov[\"carID\"].unique()"
   ]
  },
  {
   "cell_type": "code",
   "execution_count": null,
   "metadata": {},
   "outputs": [],
   "source": [
    "i=1\n",
    "time_index_full= time_index\n",
    "\n",
    "while i <= len(car_index)-1:\n",
    "    time_index_full = np.concatenate((time_index_full, time_index), axis=0)\n",
    "    i=i+1\n",
    "\n",
    "time_index_full=pd.DataFrame(time_index_full)\n",
    "#time_index_full.sort_values(by=0,inplace=True)\n",
    "time_index_full.set_index(np.arange(0,(len(car_index)*len(time_index)),1))\n",
    "time_index_full.head()"
   ]
  },
  {
   "cell_type": "code",
   "execution_count": null,
   "metadata": {},
   "outputs": [],
   "source": [
    "time_index_full = time_index_full.sort_values(by=0)\n",
    "time_index_full.set_index(np.arange(0,len(car_index)*len(time_index),1), inplace=True)"
   ]
  },
  {
   "cell_type": "code",
   "execution_count": null,
   "metadata": {},
   "outputs": [],
   "source": [
    "i=1\n",
    "car_index_full= car_index\n",
    "\n",
    "while i <= len(time_index)-1:\n",
    "    car_index_full = np.concatenate((car_index_full, car_index), axis=0)\n",
    "    i=i+1\n",
    "\n",
    "car_index_full=pd.DataFrame(car_index_full)\n",
    "#time_index_full.sort_values(by=0,inplace=True)\n",
    "#time_index_full.set_index(np.arange(0,(len(car_index)*len(time_index)),1))\n",
    "car_index_full.head()"
   ]
  },
  {
   "cell_type": "code",
   "execution_count": null,
   "metadata": {},
   "outputs": [],
   "source": [
    "car_index_full = car_index_full.sort_values(by=0)\n",
    "car_index_full.set_index(np.arange(0,len(car_index)*len(time_index),1), inplace=True)"
   ]
  },
  {
   "cell_type": "code",
   "execution_count": null,
   "metadata": {},
   "outputs": [],
   "source": [
    "car_index_full.head()"
   ]
  },
  {
   "cell_type": "code",
   "execution_count": null,
   "metadata": {},
   "outputs": [],
   "source": [
    "time_index_full[\"carID\"] = car_index_full[0]"
   ]
  },
  {
   "cell_type": "code",
   "execution_count": null,
   "metadata": {},
   "outputs": [],
   "source": [
    "full_index = time_index_full\n",
    "#full_index[\"key\"] = full_index[0]+full_index[1]\n",
    "full_index"
   ]
  },
  {
   "cell_type": "code",
   "execution_count": null,
   "metadata": {},
   "outputs": [],
   "source": []
  },
  {
   "cell_type": "markdown",
   "metadata": {},
   "source": [
    "## Tasks\n",
    "\n",
    "- What patterns do you observe in rental demand and utilization?\n",
    "- What is the issue with the above view on rental demand? How best to deal with it?\n",
    "- How do you evaluate the capacity utilization of the cars? Does the sharing economy deliver on its promise of higher capital utilization?\n",
    "- How would you go about forecasting rental demand? What key factors can you think of that could be used in a predictive model to forecast rental demand?"
   ]
  }
 ],
 "metadata": {
  "kernelspec": {
   "display_name": "Python 3",
   "language": "python",
   "name": "python3"
  },
  "language_info": {
   "codemirror_mode": {
    "name": "ipython",
    "version": 3
   },
   "file_extension": ".py",
   "mimetype": "text/x-python",
   "name": "python",
   "nbconvert_exporter": "python",
   "pygments_lexer": "ipython3",
   "version": "3.6.7"
  }
 },
 "nbformat": 4,
 "nbformat_minor": 2
}
